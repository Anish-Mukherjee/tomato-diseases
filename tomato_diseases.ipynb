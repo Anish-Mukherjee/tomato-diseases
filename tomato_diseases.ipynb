{
  "nbformat": 4,
  "nbformat_minor": 0,
  "metadata": {
    "colab": {
      "name": "tomato-diseases.ipynb",
      "provenance": [],
      "authorship_tag": "ABX9TyPM+E2Wz8f+cESY8+/WeQAH",
      "include_colab_link": true
    },
    "kernelspec": {
      "name": "python3",
      "display_name": "Python 3"
    },
    "language_info": {
      "name": "python"
    }
  },
  "cells": [
    {
      "cell_type": "markdown",
      "metadata": {
        "id": "view-in-github",
        "colab_type": "text"
      },
      "source": [
        "<a href=\"https://colab.research.google.com/github/Anish-Mukherjee/tomato-diseases/blob/main/tomato_diseases.ipynb\" target=\"_parent\"><img src=\"https://colab.research.google.com/assets/colab-badge.svg\" alt=\"Open In Colab\"/></a>"
      ]
    },
    {
      "cell_type": "code",
      "execution_count": null,
      "metadata": {
        "id": "0i-1rQ4eHaZZ"
      },
      "outputs": [],
      "source": [
        ""
      ]
    }
  ]
}